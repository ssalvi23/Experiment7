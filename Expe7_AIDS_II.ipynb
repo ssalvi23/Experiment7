{
  "nbformat": 4,
  "nbformat_minor": 0,
  "metadata": {
    "colab": {
      "provenance": [],
      "include_colab_link": true
    },
    "kernelspec": {
      "name": "python3",
      "display_name": "Python 3"
    },
    "language_info": {
      "name": "python"
    }
  },
  "cells": [
    {
      "cell_type": "markdown",
      "metadata": {
        "id": "view-in-github",
        "colab_type": "text"
      },
      "source": [
        "<a href=\"https://colab.research.google.com/github/ssalvi23/Experiment7/blob/main/Expe7_AIDS_II.ipynb\" target=\"_parent\"><img src=\"https://colab.research.google.com/assets/colab-badge.svg\" alt=\"Open In Colab\"/></a>"
      ]
    },
    {
      "cell_type": "markdown",
      "source": [
        "**LY_IT_67 : Sakshi Salvi**\n",
        "\n",
        "**- Experiment 7 : Implementation of Fuzzy Logic for suitable application**"
      ],
      "metadata": {
        "id": "0q5lbEseXv25"
      }
    },
    {
      "cell_type": "markdown",
      "source": [
        "Union"
      ],
      "metadata": {
        "id": "4vVSr_9iX8Jh"
      }
    },
    {
      "cell_type": "code",
      "execution_count": null,
      "metadata": {
        "colab": {
          "base_uri": "https://localhost:8080/"
        },
        "id": "aPFKA1NuWvFl",
        "outputId": "50ba11a8-ca8d-422f-caf6-2343a31279f5"
      },
      "outputs": [
        {
          "output_type": "stream",
          "name": "stdout",
          "text": [
            "The First Fuzzy Set is : {'x': 0.4, 'y': 0.8, 'z': 0.1}\n",
            "The Second Fuzzy Set is : {'x': 0.6, 'y': 0.5, 'z': 0.9}\n",
            "Fuzzy Set Union is : {'x': 0.6, 'y': 0.8, 'z': 0.9}\n"
          ]
        }
      ],
      "source": [
        "A = dict()\n",
        "B = dict()\n",
        "Y = dict()\n",
        "\n",
        "A = {\"x\": 0.4, \"y\": 0.8, \"z\": 0.1}\n",
        "B = {\"x\": 0.6, \"y\": 0.5, \"z\": 0.9}\n",
        "\n",
        "print('The First Fuzzy Set is :', A)\n",
        "print('The Second Fuzzy Set is :', B)\n",
        "\n",
        "\n",
        "for A_key, B_key in zip(A, B):\n",
        "    A_value = A[A_key]\n",
        "    B_value = B[B_key]\n",
        "\n",
        "    Y[A_key] = max(A_value, B_value)\n",
        "\n",
        "print('Fuzzy Set Union is :', Y)"
      ]
    },
    {
      "cell_type": "markdown",
      "source": [
        "Intersection"
      ],
      "metadata": {
        "id": "KcIH0JN_X-SR"
      }
    },
    {
      "cell_type": "code",
      "source": [
        "A = dict()\n",
        "B = dict()\n",
        "Y = dict()\n",
        "\n",
        "A = {\"x\": 0.4, \"y\": 0.8, \"z\": 0.1}\n",
        "B = {\"x\": 0.6, \"y\": 0.5, \"z\": 0.9}\n",
        "\n",
        "print('The First Fuzzy Set is :', A)\n",
        "print('The Second Fuzzy Set is :', B)\n",
        "\n",
        "\n",
        "for A_key, B_key in zip(A, B):\n",
        "    A_value = A[A_key]\n",
        "    B_value = B[B_key]\n",
        "\n",
        "    Y[A_key] = min(A_value, B_value)\n",
        "\n",
        "print('Fuzzy Set Intersection is :', Y)"
      ],
      "metadata": {
        "colab": {
          "base_uri": "https://localhost:8080/"
        },
        "id": "deYmcALeX_0h",
        "outputId": "d4bb9561-a8e0-4929-ec97-2680f634988b"
      },
      "execution_count": null,
      "outputs": [
        {
          "output_type": "stream",
          "name": "stdout",
          "text": [
            "The First Fuzzy Set is : {'x': 0.4, 'y': 0.8, 'z': 0.1}\n",
            "The Second Fuzzy Set is : {'x': 0.6, 'y': 0.5, 'z': 0.9}\n",
            "Fuzzy Set Intersection is : {'x': 0.4, 'y': 0.5, 'z': 0.1}\n"
          ]
        }
      ]
    },
    {
      "cell_type": "markdown",
      "source": [
        "Complement"
      ],
      "metadata": {
        "id": "QaKIvs16YBmR"
      }
    },
    {
      "cell_type": "code",
      "source": [
        "A = dict()\n",
        "Y = dict()\n",
        "\n",
        "A = {\"x\": 0.4, \"y\": 0.8, \"z\": 0.1}\n",
        "\n",
        "print('The Fuzzy Set is :', A)\n",
        "\n",
        "\n",
        "for A_key in A:\n",
        "   Y[A_key]= 1-A[A_key]\n",
        "\n",
        "print('Fuzzy Set Complement is :', Y)"
      ],
      "metadata": {
        "colab": {
          "base_uri": "https://localhost:8080/"
        },
        "id": "c82kiTHkYC44",
        "outputId": "b32bc7f4-c80b-4810-f29a-d52b6e2eefc0"
      },
      "execution_count": null,
      "outputs": [
        {
          "output_type": "stream",
          "name": "stdout",
          "text": [
            "The Fuzzy Set is : {'x': 0.4, 'y': 0.8, 'z': 0.1}\n",
            "Fuzzy Set Complement is : {'x': 0.6, 'y': 0.19999999999999996, 'z': 0.9}\n"
          ]
        }
      ]
    },
    {
      "cell_type": "markdown",
      "source": [
        "Difference"
      ],
      "metadata": {
        "id": "TPqyrHYGYDdR"
      }
    },
    {
      "cell_type": "code",
      "source": [
        "A = dict()\n",
        "B = dict()\n",
        "Y = dict()\n",
        "\n",
        "A = {\"x\": 0.4, \"y\": 0.8, \"z\": 0.1}\n",
        "B = {\"x\": 0.6, \"y\": 0.5, \"z\": 0.9}\n",
        "\n",
        "print('The First Fuzzy Set is :', A)\n",
        "print('The Second Fuzzy Set is :', B)\n",
        "\n",
        "\n",
        "for A_key, B_key in zip(A, B):\n",
        "    A_value = A[A_key]\n",
        "    B_value = B[B_key]\n",
        "    B_value = 1 - B_value\n",
        "\n",
        "    Y[A_key] = min(A_value, B_value)\n",
        "\n",
        "print('Fuzzy Set Difference is :', Y)"
      ],
      "metadata": {
        "colab": {
          "base_uri": "https://localhost:8080/"
        },
        "id": "KKCBOR5cYEnY",
        "outputId": "56b386f7-de76-4e60-962c-6274e8a50f08"
      },
      "execution_count": null,
      "outputs": [
        {
          "output_type": "stream",
          "name": "stdout",
          "text": [
            "The First Fuzzy Set is : {'x': 0.4, 'y': 0.8, 'z': 0.1}\n",
            "The Second Fuzzy Set is : {'x': 0.6, 'y': 0.5, 'z': 0.9}\n",
            "Fuzzy Set Difference is : {'x': 0.4, 'y': 0.5, 'z': 0.09999999999999998}\n"
          ]
        }
      ]
    },
    {
      "cell_type": "markdown",
      "source": [
        "Algebraic Sum"
      ],
      "metadata": {
        "id": "NNqkPLiaYFMA"
      }
    },
    {
      "cell_type": "code",
      "source": [
        "A = dict()\n",
        "B = dict()\n",
        "Y = dict()\n",
        "\n",
        "A = {\"x\": 0.4, \"y\": 0.8, \"z\": 0.1}\n",
        "B = {\"x\": 0.6, \"y\": 0.5, \"z\": 0.9}\n",
        "\n",
        "print('The First Fuzzy Set is :', A)\n",
        "print('The Second Fuzzy Set is :', B)\n",
        "\n",
        "\n",
        "for A_key, B_key in zip(A, B):\n",
        "    A_value = A[A_key]\n",
        "    B_value = B[B_key]\n",
        "\n",
        "    Y[A_key] = A_value + B_value - (A_value * B_value)\n",
        "\n",
        "print('Fuzzy Set Algebraic Sum is :', Y)"
      ],
      "metadata": {
        "colab": {
          "base_uri": "https://localhost:8080/"
        },
        "id": "9p4Eb0e2YG8o",
        "outputId": "d5a60ad1-976d-4739-88ba-f0e5694463ff"
      },
      "execution_count": null,
      "outputs": [
        {
          "output_type": "stream",
          "name": "stdout",
          "text": [
            "The First Fuzzy Set is : {'x': 0.4, 'y': 0.8, 'z': 0.1}\n",
            "The Second Fuzzy Set is : {'x': 0.6, 'y': 0.5, 'z': 0.9}\n",
            "Fuzzy Set Algebraic Sum is : {'x': 0.76, 'y': 0.9, 'z': 0.91}\n"
          ]
        }
      ]
    },
    {
      "cell_type": "markdown",
      "source": [
        "Algebraic Product"
      ],
      "metadata": {
        "id": "yXfnCbpwYHo5"
      }
    },
    {
      "cell_type": "code",
      "source": [
        "A = dict()\n",
        "B = dict()\n",
        "Y = dict()\n",
        "\n",
        "A = {\"x\": 0.4, \"y\": 0.8, \"z\": 0.1}\n",
        "B = {\"x\": 0.6, \"y\": 0.5, \"z\": 0.9}\n",
        "print('The First Fuzzy Set is :', A)\n",
        "print('The Second Fuzzy Set is :', B)\n",
        "\n",
        "\n",
        "for A_key, B_key in zip(A, B):\n",
        "    A_value = A[A_key]\n",
        "    B_value = B[B_key]\n",
        "\n",
        "    Y[A_key] = (A_value * B_value)\n",
        "\n",
        "print('Fuzzy Set Algebraic Product is :', Y)"
      ],
      "metadata": {
        "colab": {
          "base_uri": "https://localhost:8080/"
        },
        "id": "d6UFxwdCYJbo",
        "outputId": "cd59a969-ae87-4966-bbbb-8292b09693be"
      },
      "execution_count": null,
      "outputs": [
        {
          "output_type": "stream",
          "name": "stdout",
          "text": [
            "The First Fuzzy Set is : {'x': 0.4, 'y': 0.8, 'z': 0.1}\n",
            "The Second Fuzzy Set is : {'x': 0.6, 'y': 0.5, 'z': 0.9}\n",
            "Fuzzy Set Algebraic Product is : {'x': 0.24, 'y': 0.4, 'z': 0.09000000000000001}\n"
          ]
        }
      ]
    },
    {
      "cell_type": "markdown",
      "source": [
        "Bounded Sum"
      ],
      "metadata": {
        "id": "bL1ItpDsYKgg"
      }
    },
    {
      "cell_type": "code",
      "source": [
        "A = dict()\n",
        "B = dict()\n",
        "Y = dict()\n",
        "A = {\"x\": 0.4, \"y\": 0.8, \"z\": 0.1}\n",
        "B = {\"x\": 0.6, \"y\": 0.5, \"z\": 0.9}\n",
        "\n",
        "print('The First Fuzzy Set is :', A)\n",
        "print('The Second Fuzzy Set is :', B)\n",
        "\n",
        "\n",
        "for A_key, B_key in zip(A, B):\n",
        "    A_value = A[A_key]\n",
        "    B_value = B[B_key]\n",
        "\n",
        "    Y[A_key] = min(1, (A_value + B_value))\n",
        "\n",
        "print('Fuzzy Set Bounded Sum is :', Y)"
      ],
      "metadata": {
        "colab": {
          "base_uri": "https://localhost:8080/"
        },
        "id": "boUl6NVCYLiw",
        "outputId": "9f3b9c70-130c-4ada-e784-024c943447ca"
      },
      "execution_count": null,
      "outputs": [
        {
          "output_type": "stream",
          "name": "stdout",
          "text": [
            "The First Fuzzy Set is : {'x': 0.4, 'y': 0.8, 'z': 0.1}\n",
            "The Second Fuzzy Set is : {'x': 0.6, 'y': 0.5, 'z': 0.9}\n",
            "Fuzzy Set Bounded Sum is : {'x': 1, 'y': 1, 'z': 1}\n"
          ]
        }
      ]
    },
    {
      "cell_type": "markdown",
      "source": [
        "Bounded Difference"
      ],
      "metadata": {
        "id": "94OaDxguYMEZ"
      }
    },
    {
      "cell_type": "code",
      "source": [
        "A = dict()\n",
        "B = dict()\n",
        "Y = dict()\n",
        "\n",
        "A = {\"x\": 0.4, \"y\": 0.8, \"z\": 0.1}\n",
        "B = {\"x\": 0.6, \"y\": 0.5, \"z\": 0.9}\n",
        "\n",
        "print('The First Fuzzy Set is :', A)\n",
        "print('The Second Fuzzy Set is :', B)\n",
        "\n",
        "\n",
        "for A_key, B_key in zip(A, B):\n",
        "    A_value = A[A_key]\n",
        "    B_value = B[B_key]\n",
        "\n",
        "    Y[A_key] = max(0, (A_value - B_value))\n",
        "\n",
        "print('Fuzzy Set Bounded Difference is :', Y)"
      ],
      "metadata": {
        "colab": {
          "base_uri": "https://localhost:8080/"
        },
        "id": "5zlgU4i1YNyY",
        "outputId": "8deba8b4-5f53-4f45-c17c-79af4173fd53"
      },
      "execution_count": null,
      "outputs": [
        {
          "output_type": "stream",
          "name": "stdout",
          "text": [
            "The First Fuzzy Set is : {'x': 0.4, 'y': 0.8, 'z': 0.1}\n",
            "The Second Fuzzy Set is : {'x': 0.6, 'y': 0.5, 'z': 0.9}\n",
            "Fuzzy Set Bounded Difference is : {'x': 0, 'y': 0.30000000000000004, 'z': 0}\n"
          ]
        }
      ]
    }
  ]
}